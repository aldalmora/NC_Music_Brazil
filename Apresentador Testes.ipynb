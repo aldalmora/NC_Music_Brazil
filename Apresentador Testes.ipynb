{
 "cells": [
  {
   "cell_type": "markdown",
   "metadata": {},
   "source": [
    "<h2>Apresenta o resultado das diversas execuções de aprendizagem de máquina</h2>"
   ]
  },
  {
   "cell_type": "code",
   "execution_count": null,
   "metadata": {},
   "outputs": [],
   "source": [
    "import numpy as np\n",
    "import pandas as pd\n",
    "import BaseDados\n",
    "import matplotlib.pyplot as plt\n",
    "import matplotlib.pylab as pl\n",
    "import itertools\n",
    "import json\n",
    "from matplotlib.colors import ListedColormap\n",
    "from matplotlib import cm\n",
    "from matplotlib.ticker import LinearLocator, FormatStrFormatter\n",
    "from mpl_toolkits.mplot3d import Axes3D\n",
    "from IPython.display import HTML, display\n",
    "\n",
    "\n",
    "#https://scikit-learn.org/stable/auto_examples/model_selection/plot_confusion_matrix.html\n",
    "def plot_confusion_matrix(cm, classes,\n",
    "                          normalize=False,\n",
    "                          title='Matriz Confusão',\n",
    "                          cmap=None):\n",
    "    \"\"\"\n",
    "    This function prints and plots the confusion matrix.\n",
    "    Normalization can be applied by setting `normalize=True`.\n",
    "    \"\"\"\n",
    "    if normalize:\n",
    "        cm = cm.astype('float') / cm.sum(axis=0)[np.newaxis, :]\n",
    "        \n",
    "    N = 256\n",
    "    vals = np.ones((N, 4))\n",
    "    newcmp = ListedColormap(vals)\n",
    "    \n",
    "    plt.imshow(cm, interpolation='nearest', cmap=newcmp)\n",
    "    plt.title(title)\n",
    "    tick_marks = np.arange(len(classes))\n",
    "    plt.xticks(tick_marks, classes, rotation=45)\n",
    "    plt.yticks(tick_marks, classes)\n",
    "\n",
    "    fmt = '.2f' if normalize else '.0f'\n",
    "    thresh = cm.max() / 2.\n",
    "    for i, j in itertools.product(range(cm.shape[0]), range(cm.shape[1])):\n",
    "        plt.text(j, i, format(cm[i, j], fmt),\n",
    "                 horizontalalignment=\"center\",\n",
    "                 color=\"black\", weight='bold' if i==j else \"normal\")\n",
    "\n",
    "    plt.ylabel('Ground-Truth')\n",
    "    plt.xlabel('Predicted')\n",
    "    plt.tight_layout()"
   ]
  },
  {
   "cell_type": "markdown",
   "metadata": {},
   "source": [
    "<i>Consulta aos resultados</i>"
   ]
  },
  {
   "cell_type": "code",
   "execution_count": null,
   "metadata": {},
   "outputs": [],
   "source": [
    "tst = BaseDados.SelectTeste('select Teste,Target,method,binario,pos,RemoveStopWords,max(f1score) from Dados_Testes  group by Teste,method,binario,pos,RemoveStopWords order by Teste,target,f1score')\n",
    "df = pd.DataFrame(tst,columns=[\"Nome do Teste\",\"Target\",\"Method\",\"binario\",\"pos\",\"RemoveStopWords\",\"F1Score(Medio) Máximo\"])\n",
    "df.style.hide_index()"
   ]
  },
  {
   "cell_type": "markdown",
   "metadata": {},
   "source": [
    "<i>Melhores resultados para cada método</i>"
   ]
  },
  {
   "cell_type": "code",
   "execution_count": null,
   "metadata": {},
   "outputs": [],
   "source": [
    "#Desempatados - Todos[Assunto]\n",
    "Teste = 'Todos'\n",
    "Target = 'Valência'\n",
    "\n",
    "Metodo = 'KNN'\n",
    "\n",
    "tst = BaseDados.SelectTeste('Select id,method,f1score,score,score_g5,score_g4,score_g3,binario,pos,RemoveStopWords from Dados_Testes where Teste = \"' + Teste + '\" and method = \"' + Metodo + '\" and Target = \"' + Target + '\" order by f1score DESC LIMIT 1')\n",
    "df = pd.DataFrame(tst,columns=[\"id\",\"method\",\"f1score\",\"score\",\"score_g5\",\"score_g4\",\"score_g3\",\"binario\",\"pos\",\"RemoveStopWords\"])\n",
    "df.style.hide_index()\n",
    "display(df)\n",
    "\n",
    "Metodo = 'RD'\n",
    "\n",
    "tst = BaseDados.SelectTeste('Select id,method,f1score,score,score_g5,score_g4,score_g3,binario,pos,RemoveStopWords from Dados_Testes where Teste = \"' + Teste + '\" and method = \"' + Metodo + '\" and Target = \"' + Target + '\"  order by f1score DESC LIMIT 1')\n",
    "df = pd.DataFrame(tst,columns=[\"id\",\"method\",\"f1score\",\"score\",\"score_g5\",\"score_g4\",\"score_g3\",\"binario\",\"pos\",\"RemoveStopWords\"])\n",
    "df.style.hide_index()\n",
    "display(df)\n",
    "\n",
    "Metodo = 'SVC'\n",
    "\n",
    "tst = BaseDados.SelectTeste('Select id,method,f1score,score,score_g5,score_g4,score_g3,binario,pos,RemoveStopWords from Dados_Testes where Teste = \"' + Teste + '\" and method = \"' + Metodo + '\" and Target = \"' + Target + '\"  order by f1score DESC LIMIT 1')\n",
    "df = pd.DataFrame(tst,columns=[\"id\",\"method\",\"f1score\",\"score\",\"score_g5\",\"score_g4\",\"score_g3\",\"binario\",\"pos\",\"RemoveStopWords\"])\n",
    "df.style.hide_index()\n",
    "display(df)\n",
    "\n",
    "Metodo = 'GNB'\n",
    "\n",
    "tst = BaseDados.SelectTeste('Select id,method,f1score,score,score_g5,score_g4,score_g3,binario,pos,RemoveStopWords from Dados_Testes where Teste = \"' + Teste + '\" and method = \"' + Metodo + '\" and Target = \"' + Target + '\"  order by f1score DESC LIMIT 1')\n",
    "df = pd.DataFrame(tst,columns=[\"id\",\"method\",\"f1score\",\"score\",\"score_g5\",\"score_g4\",\"score_g3\",\"binario\",\"pos\",\"RemoveStopWords\"])\n",
    "df.style.hide_index()\n",
    "display(df)\n",
    "#_r = []\n",
    "#for binario in [0,1]:\n",
    "#    for pos in [0,1]:\n",
    "#        for sw in [0,1]:\n",
    "#            tst = BaseDados.SelectTeste('Select id,f1score,binario,pos,RemoveStopWords from Dados_Testes where binario=' + str(binario) + ' and pos = ' + str(pos) + ' and RemoveStopWords= ' + str(sw) + ' and   Teste = \"' + Teste + '\" order by f1score DESC,std LIMIT 3')\n",
    "#            #df = pd.DataFrame(tst,columns=[\"id\",\"f1score\",\"binario\",\"pos\",\"RemoveStopWords\"])\n",
    "#            #df.style.hide_index()\n",
    "#            #display(df)\n",
    "#            if (len(tst)>0):\n",
    "#                _r.append(tst[0].id)\n",
    "#\n",
    "#print(_r)"
   ]
  },
  {
   "cell_type": "markdown",
   "metadata": {},
   "source": [
    "<i>Detalhes de um resultado</i>"
   ]
  },
  {
   "cell_type": "code",
   "execution_count": null,
   "metadata": {},
   "outputs": [],
   "source": [
    "id='(60051,46586,39044,62169)'\n",
    "print(Teste)\n",
    "print('Binario, PoS, RemoverStopWords')\n",
    "_tst = BaseDados.SelectTeste('Select id, Teste, Target, method, Binario, PoS, RemoveStopWords, hyperP, features, components, f1score, f1scores,  f1score_g5, f1score_g4, f1score_g3,score,score_g5,score_g4,score_g3,cfn_matrix from Dados_Testes where id in ' + str(id))\n",
    "for tst in _tst:\n",
    "    print('ID: ',tst.id)\n",
    "    print('Nome do Teste: ',tst.Teste)\n",
    "    print('Binario: ',tst.Binario)\n",
    "    print('PoS: ',tst.PoS)\n",
    "    print('RemoveStopWords: ',tst.RemoveStopWords)\n",
    "    print('Method: ',tst.method)\n",
    "    print('Target: ',tst.Target)\n",
    "    print('HyperP: ',tst.hyperP)\n",
    "    print('Features: ',tst.features)\n",
    "    print('Componentes: ',tst.components)\n",
    "    \n",
    "    f1s_mat = tst.f1scores.replace('],[','];[').split(';')\n",
    "    f1s = np.array(json.loads(f1s_mat[0]))\n",
    "    f1s_g5 = np.array(json.loads(f1s_mat[1]))\n",
    "    f1s_g4 = np.array(json.loads(f1s_mat[2]))\n",
    "    f1s_g3 = np.array(json.loads(f1s_mat[3]))\n",
    "    \n",
    "    print('F1Score: ',f1s.mean());\n",
    "    print('Score: ',tst.score);\n",
    "    print('Score (G5): ',tst.score_g5);\n",
    "    print('Score (G4): ',tst.score_g4);\n",
    "    print('Score (G3): ',tst.score_g3);\n",
    "    print('F1Score (std): ',f1s.std());\n",
    "    print('F1Score (G5): ',f1s_g5.mean());\n",
    "    print('F1Score (G5) (std): ',f1s_g5.std());\n",
    "    print('F1Score (G4): ',f1s_g4.mean());\n",
    "    print('F1Score (G4) (std): ',f1s_g4.std());\n",
    "    print('F1Score (G3): ',f1s_g3.mean());\n",
    "    print('F1Score (G3) (std): ',f1s_g3.std());\n",
    "    \n",
    "    print('F1Scores: ',tst.f1scores)\n",
    "    \n",
    "    possibilities = ['Pos.','Neu.','Neg.']\n",
    "    #possibilities = ['Relat.','Reflec.','Others']\n",
    "    \n",
    "    \n",
    "    plt.figure(figsize=(3,3))\n",
    "    #plot_confusion_matrix(np.array(json.loads(tst.cfn_matrix)),possibilities,1,str(tst.id) + ' - ' + str(tst.Binario) + ',' + str(tst.PoS)+ ',' +str(tst.RemoveStopWords) + ' (' + str(tst.f1score) +')')\n",
    "    plot_confusion_matrix(np.array(json.loads(tst.cfn_matrix)),possibilities,1,'')\n",
    "    plt.show()"
   ]
  }
 ],
 "metadata": {
  "kernelspec": {
   "display_name": "Python 3",
   "language": "python",
   "name": "python3"
  },
  "language_info": {
   "codemirror_mode": {
    "name": "ipython",
    "version": 3
   },
   "file_extension": ".py",
   "mimetype": "text/x-python",
   "name": "python",
   "nbconvert_exporter": "python",
   "pygments_lexer": "ipython3",
   "version": "3.6.5"
  }
 },
 "nbformat": 4,
 "nbformat_minor": 2
}
